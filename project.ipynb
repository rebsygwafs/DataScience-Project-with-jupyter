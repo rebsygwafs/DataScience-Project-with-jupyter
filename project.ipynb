{
 "cells": [
  {
   "cell_type": "code",
   "execution_count": 29,
   "metadata": {},
   "outputs": [
    {
     "name": "stdout",
     "output_type": "stream",
     "text": [
      "[80, 85, 90, 95, 100, 105, 110, 115, 120, 125]\n"
     ]
    }
   ],
   "source": [
    "## creating an array\n",
    "Array =[80,85,90,95,100,105,110,115,120,125]\n",
    "print(Array)"
   ]
  },
  {
   "cell_type": "code",
   "execution_count": 30,
   "metadata": {},
   "outputs": [],
   "source": [
    "## creating a dataframe\n",
    "import pandas as pd"
   ]
  },
  {
   "cell_type": "code",
   "execution_count": 31,
   "metadata": {},
   "outputs": [],
   "source": [
    "d = {'col1': [1, 2, 3, 4, 5],\n",
    "'col2': [3, 4, 6, 7, 8], \n",
    "'col3': [2, 4, 6, 8, 10]\n",
    "}"
   ]
  },
  {
   "cell_type": "code",
   "execution_count": 33,
   "metadata": {
    "scrolled": true
   },
   "outputs": [
    {
     "name": "stdout",
     "output_type": "stream",
     "text": [
      "   col1  col2  col3\n",
      "0     1     3     2\n",
      "1     2     4     4\n",
      "2     3     6     6\n",
      "3     4     7     8\n",
      "4     5     8    10\n"
     ]
    }
   ],
   "source": [
    "df = pd.DataFrame(data = d)\n",
    "print(df)"
   ]
  },
  {
   "cell_type": "code",
   "execution_count": 34,
   "metadata": {},
   "outputs": [
    {
     "name": "stdout",
     "output_type": "stream",
     "text": [
      "3\n"
     ]
    }
   ],
   "source": [
    "col_count = df.shape[1]\n",
    "print(col_count)"
   ]
  },
  {
   "cell_type": "code",
   "execution_count": 35,
   "metadata": {},
   "outputs": [
    {
     "name": "stdout",
     "output_type": "stream",
     "text": [
      "5\n"
     ]
    }
   ],
   "source": [
    "col_count = df.shape[0]\n",
    "print(col_count)"
   ]
  },
  {
   "cell_type": "code",
   "execution_count": null,
   "metadata": {},
   "outputs": [],
   "source": []
  },
  {
   "cell_type": "code",
   "execution_count": null,
   "metadata": {
    "collapsed": true
   },
   "outputs": [],
   "source": [
    "col_count = df.shape[1]"
   ]
  },
  {
   "cell_type": "code",
   "execution_count": 4,
   "metadata": {},
   "outputs": [
    {
     "name": "stdout",
     "output_type": "stream",
     "text": [
      "125\n"
     ]
    }
   ],
   "source": [
    "## finding the maximum number in  an array\n",
    "Average_pulse_max = max(80,85,90,95,100,105,110,115,120,125)\n",
    "print(Average_pulse_max)"
   ]
  },
  {
   "cell_type": "code",
   "execution_count": 5,
   "metadata": {},
   "outputs": [
    {
     "name": "stdout",
     "output_type": "stream",
     "text": [
      "80\n"
     ]
    }
   ],
   "source": [
    "## finding the minimum number in an array\n",
    "Average_pulse_min = min(80,85,90,95,100,105,110,115,120)\n",
    "print(Average_pulse_min)"
   ]
  },
  {
   "cell_type": "code",
   "execution_count": 1,
   "metadata": {},
   "outputs": [],
   "source": [
    "import numpy as np"
   ]
  },
  {
   "cell_type": "code",
   "execution_count": 2,
   "metadata": {},
   "outputs": [
    {
     "name": "stdout",
     "output_type": "stream",
     "text": [
      "53.75\n"
     ]
    }
   ],
   "source": [
    "## calculating mean\n",
    "dt = [30,40,43,50,55,60,72,80]\n",
    "dt_average = np.mean(dt)\n",
    "print(dt_average)"
   ]
  },
  {
   "cell_type": "code",
   "execution_count": 103,
   "metadata": {},
   "outputs": [],
   "source": [
    "import pandas as pd\n"
   ]
  },
  {
   "cell_type": "code",
   "execution_count": 104,
   "metadata": {},
   "outputs": [
    {
     "name": "stdout",
     "output_type": "stream",
     "text": [
      "    index      company   body-style  wheel-base  length engine-type  \\\n",
      "0       0  alfa-romero  convertible        88.6   168.8        dohc   \n",
      "1       1  alfa-romero  convertible        88.6   168.8        dohc   \n",
      "2       2  alfa-romero    hatchback        94.5   171.2        ohcv   \n",
      "3       3         audi        sedan        99.8   176.6         ohc   \n",
      "4       4         audi        sedan        99.4   176.6         ohc   \n",
      "..    ...          ...          ...         ...     ...         ...   \n",
      "56     81   volkswagen        sedan        97.3   171.7         ohc   \n",
      "57     82   volkswagen        sedan        97.3   171.7         ohc   \n",
      "58     86   volkswagen        sedan        97.3   171.7         ohc   \n",
      "59     87        volvo        sedan       104.3   188.8         ohc   \n",
      "60     88        volvo        wagon       104.3   188.8         ohc   \n",
      "\n",
      "   num-of-cylinders  horsepower  average-mileage    price  \n",
      "0              four         111               21  13495.0  \n",
      "1              four         111               21  16500.0  \n",
      "2               six         154               19  16500.0  \n",
      "3              four         102               24  13950.0  \n",
      "4              five         115               18  17450.0  \n",
      "..              ...         ...              ...      ...  \n",
      "56             four          85               27   7975.0  \n",
      "57             four          52               37   7995.0  \n",
      "58             four         100               26   9995.0  \n",
      "59             four         114               23  12940.0  \n",
      "60             four         114               23  13415.0  \n",
      "\n",
      "[61 rows x 10 columns]\n"
     ]
    }
   ],
   "source": [
    "## importing a data set## \n",
    "Auto_data = pd.read_csv(\"Automobile_data.csv\",header=0,sep=\",\")\n",
    "print(Auto_data)"
   ]
  },
  {
   "cell_type": "code",
   "execution_count": 105,
   "metadata": {},
   "outputs": [
    {
     "name": "stdout",
     "output_type": "stream",
     "text": [
      "<class 'pandas.core.frame.DataFrame'>\n",
      "RangeIndex: 61 entries, 0 to 60\n",
      "Data columns (total 10 columns):\n",
      "index               61 non-null int64\n",
      "company             61 non-null object\n",
      "body-style          61 non-null object\n",
      "wheel-base          61 non-null float64\n",
      "length              61 non-null float64\n",
      "engine-type         61 non-null object\n",
      "num-of-cylinders    61 non-null object\n",
      "horsepower          61 non-null int64\n",
      "average-mileage     61 non-null int64\n",
      "price               58 non-null float64\n",
      "dtypes: float64(3), int64(3), object(4)\n",
      "memory usage: 4.9+ KB\n",
      "None\n"
     ]
    }
   ],
   "source": [
    "## knowing the data types in the data set\n",
    "print(Auto_data.info())"
   ]
  },
  {
   "cell_type": "code",
   "execution_count": 106,
   "metadata": {},
   "outputs": [
    {
     "name": "stdout",
     "output_type": "stream",
     "text": [
      "           index  wheel-base      length  horsepower  average-mileage  \\\n",
      "count  61.000000   61.000000   61.000000   61.000000        61.000000   \n",
      "mean   40.885246   98.481967  173.098361  107.852459        25.803279   \n",
      "std    25.429706    6.679234   14.021846   53.524398         8.129821   \n",
      "min     0.000000   88.400000  141.100000   48.000000        13.000000   \n",
      "25%    18.000000   94.500000  159.100000   68.000000        19.000000   \n",
      "50%    39.000000   96.300000  171.200000  100.000000        25.000000   \n",
      "75%    61.000000  101.200000  177.300000  123.000000        31.000000   \n",
      "max    88.000000  120.900000  208.100000  288.000000        47.000000   \n",
      "\n",
      "              price  \n",
      "count     58.000000  \n",
      "mean   15387.000000  \n",
      "std    11320.259841  \n",
      "min     5151.000000  \n",
      "25%     6808.500000  \n",
      "50%    11095.000000  \n",
      "75%    18120.500000  \n",
      "max    45400.000000  \n"
     ]
    }
   ],
   "source": [
    "## summarising the dataset\n",
    "print(Auto_data.describe())"
   ]
  },
  {
   "cell_type": "code",
   "execution_count": 107,
   "metadata": {},
   "outputs": [],
   "source": [
    "import matplotlib.pyplot as plt"
   ]
  },
  {
   "cell_type": "code",
   "execution_count": 108,
   "metadata": {},
   "outputs": [
    {
     "data": {
      "image/png": "[encoded data removed]",
      "text/plain": [
       "<Figure size 432x288 with 1 Axes>"
      ]
     },
     "metadata": {
      "needs_background": "light"
     },
     "output_type": "display_data"
    }
   ],
   "source": [
    "Auto_data.plot(x='wheel-base',y='length',kind='line'),\n",
    "plt.ylim(ymin=140.0)\n",
    "plt.xlim(xmin=85.0)\n",
    "plt.show()"
   ]
  },
  {
   "cell_type": "code",
   "execution_count": 109,
   "metadata": {},
   "outputs": [
    {
     "name": "stdout",
     "output_type": "stream",
     "text": [
      "2.5111111111111137\n"
     ]
    }
   ],
   "source": [
    "## calculating slope\n",
    "def slope(x1, y1, x2, y2):\n",
    "    s = (y2-y1)/(x2-x1)\n",
    "    return s\n",
    "print (slope(94.5,171.2,103.5,193.8))"
   ]
  },
  {
   "cell_type": "code",
   "execution_count": 119,
   "metadata": {},
   "outputs": [],
   "source": [
    "import pandas as pd"
   ]
  },
  {
   "cell_type": "code",
   "execution_count": 120,
   "metadata": {},
   "outputs": [],
   "source": [
    "## importing a dataset\n",
    "auto_data = pd.read_csv('Automobile_data.csv',header=0,sep=\",\")\n",
    "x = auto_data[\"wheel-base\"]\n",
    "y = auto_data[\"length\"]\n",
    "slope_intercept = np.polyfit(x,y,1)"
   ]
  },
  {
   "cell_type": "code",
   "execution_count": 121,
   "metadata": {},
   "outputs": [
    {
     "name": "stdout",
     "output_type": "stream",
     "text": [
      "[ 1.8440029  -8.50267292]\n"
     ]
    }
   ],
   "source": [
    "print(slope_intercept)"
   ]
  },
  {
   "cell_type": "code",
   "execution_count": 122,
   "metadata": {},
   "outputs": [
    {
     "name": "stdout",
     "output_type": "stream",
     "text": [
      "234.5\n"
     ]
    }
   ],
   "source": [
    "## defining a function\n",
    "def my_function(x):\n",
    "   return 1.8*x - 8.5\n",
    "\n",
    "print (my_function(135))"
   ]
  },
  {
   "cell_type": "code",
   "execution_count": 123,
   "metadata": {},
   "outputs": [
    {
     "name": "stdout",
     "output_type": "stream",
     "text": [
      "243.5\n"
     ]
    }
   ],
   "source": [
    "def my_function(x):\n",
    "   return 1.8*x - 8.5\n",
    "\n",
    "print(my_function(140))"
   ]
  },
  {
   "cell_type": "code",
   "execution_count": 215,
   "metadata": {},
   "outputs": [],
   "source": [
    "import pandas as pd"
   ]
  },
  {
   "cell_type": "code",
   "execution_count": 216,
   "metadata": {},
   "outputs": [
    {
     "name": "stdout",
     "output_type": "stream",
     "text": [
      "    Product  Age  Gender  Education MaritalStatus  Usage  Fitness  Income  \\\n",
      "0     TM195   18    Male         14        Single      3        4   29562   \n",
      "1     TM195   19    Male         15        Single      2        3   31836   \n",
      "2     TM195   19  Female         14     Partnered      4        3   30699   \n",
      "3     TM195   19    Male         12        Single      3        3   32973   \n",
      "4     TM195   20    Male         13     Partnered      4        2   35247   \n",
      "..      ...  ...     ...        ...           ...    ...      ...     ...   \n",
      "175   TM798   40    Male         21        Single      6        5   83416   \n",
      "176   TM798   42    Male         18        Single      5        4   89641   \n",
      "177   TM798   45    Male         16        Single      5        5   90886   \n",
      "178   TM798   47    Male         18     Partnered      4        5  104581   \n",
      "179   TM798   48    Male         18     Partnered      4        5   95508   \n",
      "\n",
      "     Miles  \n",
      "0      112  \n",
      "1       75  \n",
      "2       66  \n",
      "3       85  \n",
      "4       47  \n",
      "..     ...  \n",
      "175    200  \n",
      "176    200  \n",
      "177    160  \n",
      "178    120  \n",
      "179    180  \n",
      "\n",
      "[180 rows x 9 columns]\n"
     ]
    }
   ],
   "source": [
    "dt = pd.read_csv(\"AdescoGym.csv\",header=0,sep=\",\")\n",
    "print(dt)"
   ]
  },
  {
   "cell_type": "code",
   "execution_count": 217,
   "metadata": {},
   "outputs": [],
   "source": [
    "import numpy as np\n"
   ]
  },
  {
   "cell_type": "code",
   "execution_count": 178,
   "metadata": {},
   "outputs": [
    {
     "name": "stdout",
     "output_type": "stream",
     "text": [
      "44058.75\n"
     ]
    }
   ],
   "source": [
    "## calculating percentile\n",
    "Income = dt[\"Income\"]\n",
    "percentile25 = np.percentile(Income,25)\n",
    "print(percentile25)"
   ]
  },
  {
   "cell_type": "code",
   "execution_count": 179,
   "metadata": {},
   "outputs": [
    {
     "name": "stdout",
     "output_type": "stream",
     "text": [
      "Age              6.924184\n",
      "Education        1.612557\n",
      "Usage            1.081780\n",
      "Fitness          0.956201\n",
      "Income       16460.768465\n",
      "Miles           51.719338\n",
      "dtype: float64\n"
     ]
    }
   ],
   "source": [
    "## calculating standard deviation\n",
    "std = np.std(dt)\n",
    "print (std)"
   ]
  },
  {
   "cell_type": "code",
   "execution_count": 180,
   "metadata": {},
   "outputs": [
    {
     "name": "stdout",
     "output_type": "stream",
     "text": [
      "Age          0.240516\n",
      "Education    0.103553\n",
      "Usage        0.313055\n",
      "Fitness      0.288786\n",
      "Income       0.306420\n",
      "Miles        0.501183\n",
      "dtype: float64\n"
     ]
    }
   ],
   "source": [
    "## calculating coefficient variation\n",
    "cv = np.std(dt)/np.mean(dt)\n",
    "print(cv)"
   ]
  },
  {
   "cell_type": "code",
   "execution_count": 181,
   "metadata": {},
   "outputs": [
    {
     "name": "stdout",
     "output_type": "stream",
     "text": [
      "Age          4.794432e+01\n",
      "Education    2.600340e+00\n",
      "Usage        1.170247e+00\n",
      "Fitness      9.143210e-01\n",
      "Income       2.709569e+08\n",
      "Miles        2.674890e+03\n",
      "dtype: float64\n"
     ]
    }
   ],
   "source": [
    "## calculating variance\n",
    "var = np.var(dt)\n",
    "print(var)"
   ]
  },
  {
   "cell_type": "code",
   "execution_count": 23,
   "metadata": {},
   "outputs": [],
   "source": [
    "##importing packages \n",
    "import pandas as pd\n",
    "import numpy as np\n",
    "import matplotlib.pyplot as plt\n",
    "from scipy import stats\n",
    "import statsmodels.formula.api as smf"
   ]
  },
  {
   "cell_type": "code",
   "execution_count": 24,
   "metadata": {},
   "outputs": [
    {
     "name": "stdout",
     "output_type": "stream",
     "text": [
      "    Product  Age  Gender  Education MaritalStatus  Usage  Fitness  Income  \\\n",
      "0     TM195   18    Male         14        Single      3        4   29562   \n",
      "1     TM195   19    Male         15        Single      2        3   31836   \n",
      "2     TM195   19  Female         14     Partnered      4        3   30699   \n",
      "3     TM195   19    Male         12        Single      3        3   32973   \n",
      "4     TM195   20    Male         13     Partnered      4        2   35247   \n",
      "..      ...  ...     ...        ...           ...    ...      ...     ...   \n",
      "175   TM798   40    Male         21        Single      6        5   83416   \n",
      "176   TM798   42    Male         18        Single      5        4   89641   \n",
      "177   TM798   45    Male         16        Single      5        5   90886   \n",
      "178   TM798   47    Male         18     Partnered      4        5  104581   \n",
      "179   TM798   48    Male         18     Partnered      4        5   95508   \n",
      "\n",
      "     Miles  \n",
      "0      112  \n",
      "1       75  \n",
      "2       66  \n",
      "3       85  \n",
      "4       47  \n",
      "..     ...  \n",
      "175    200  \n",
      "176    200  \n",
      "177    160  \n",
      "178    120  \n",
      "179    180  \n",
      "\n",
      "[180 rows x 9 columns]\n"
     ]
    }
   ],
   "source": [
    " ##importing data for linear regression model\n",
    "dt = pd.read_csv(\"AdescoGym.csv\")\n",
    "print(dt)"
   ]
  },
  {
   "cell_type": "code",
   "execution_count": 25,
   "metadata": {},
   "outputs": [],
   "source": [
    "x = dt[\"Age\"]\n",
    "y = dt[\"Income\"]"
   ]
  },
  {
   "cell_type": "code",
   "execution_count": 26,
   "metadata": {},
   "outputs": [],
   "source": [
    "slope,intercept,r,p,std_err = stats.linregress(x,y)"
   ]
  },
  {
   "cell_type": "code",
   "execution_count": 27,
   "metadata": {},
   "outputs": [],
   "source": [
    "def myfunc(x):\n",
    "    return slope*x +intercept"
   ]
  },
  {
   "cell_type": "code",
   "execution_count": 28,
   "metadata": {},
   "outputs": [
    {
     "data": {
      "text/plain": [
       "<function matplotlib.pyplot.show(*args, **kw)>"
      ]
     },
     "execution_count": 28,
     "metadata": {},
     "output_type": "execute_result"
    },
    {
     "data": {
      "image/png": "[encoded data removed]",
      "text/plain": [
       "<Figure size 432x288 with 1 Axes>"
      ]
     },
     "metadata": {
      "needs_background": "light"
     },
     "output_type": "display_data"
    }
   ],
   "source": [
    "## plotting a scatter plot to detemine if there is a relationship between Age and income\n",
    "dt.plot(x='Age',y='Income',kind='scatter')\n",
    "plt.plot(x,slope*x+intercept)\n",
    "plt.ylim(ymin=20000,ymax=120000)\n",
    "plt.xlim(xmin=20,xmax=50)\n",
    "plt.ylabel(\"Income\")\n",
    "plt.xlabel(\"Age\")\n",
    "plt.show"
   ]
  },
  {
   "cell_type": "code",
   "execution_count": 29,
   "metadata": {},
   "outputs": [],
   "source": [
    "## fitting a model\n",
    "model= smf.ols('Income ~ Age', data = dt)"
   ]
  },
  {
   "cell_type": "code",
   "execution_count": 30,
   "metadata": {},
   "outputs": [
    {
     "name": "stdout",
     "output_type": "stream",
     "text": [
      "                            OLS Regression Results                            \n",
      "==============================================================================\n",
      "Dep. Variable:                 Income   R-squared:                       0.264\n",
      "Model:                            OLS   Adj. R-squared:                  0.259\n",
      "Method:                 Least Squares   F-statistic:                     63.71\n",
      "Date:                Sat, 12 Jun 2021   Prob (F-statistic):           1.71e-13\n",
      "Time:                        11:07:40   Log-Likelihood:                -1975.4\n",
      "No. Observations:                 180   AIC:                             3955.\n",
      "Df Residuals:                     178   BIC:                             3961.\n",
      "Df Model:                           1                                         \n",
      "Covariance Type:            nonrobust                                         \n",
      "==============================================================================\n",
      "                 coef    std err          t      P>|t|      [0.025      0.975]\n",
      "------------------------------------------------------------------------------\n",
      "Intercept   1.858e+04   4527.587      4.104      0.000    9647.181    2.75e+04\n",
      "Age         1220.5314    152.908      7.982      0.000     918.786    1522.277\n",
      "==============================================================================\n",
      "Omnibus:                       50.997   Durbin-Watson:                   0.311\n",
      "Prob(Omnibus):                  0.000   Jarque-Bera (JB):               87.001\n",
      "Skew:                           1.473   Prob(JB):                     1.28e-19\n",
      "Kurtosis:                       4.708   Cond. No.                         127.\n",
      "==============================================================================\n",
      "\n",
      "Warnings:\n",
      "[1] Standard Errors assume that the covariance matrix of the errors is correctly specified.\n"
     ]
    }
   ],
   "source": [
    "results = model.fit()\n",
    "print(results.summary())"
   ]
  },
  {
   "cell_type": "code",
   "execution_count": 31,
   "metadata": {},
   "outputs": [],
   "source": [
    "## the output depicts that te linear equation is y = 1.858e+04 + 1220.5(Age)\n",
    "## p-value > 0.0001 which is less than 0.05 it means its highly significant, rejecting the null\n",
    "## hypothesis, this also means there exist a relationship between Age and Income.\n",
    "## R-squared value is 0.264 this is the amount of variation of the dependent variable that  can\n",
    "## can be explained by the independent variable."
   ]
  },
  {
   "cell_type": "code",
   "execution_count": 32,
   "metadata": {},
   "outputs": [
    {
     "name": "stdout",
     "output_type": "stream",
     "text": [
      "48820.000186\n",
      "73230.000186\n"
     ]
    }
   ],
   "source": [
    "def predict_Income(Age):\n",
    "    return(Age * 1220.5 + .000186)\n",
    "print(predict_Income(40))\n",
    "print(predict_Income(60))"
   ]
  },
  {
   "cell_type": "code",
   "execution_count": 211,
   "metadata": {},
   "outputs": [],
   "source": [
    "## plotting a graph of selected values\n",
    "neg_corr = {'Age':[29,30,31,32,33],'Income':[40000,36000,32000,28000,20000]}"
   ]
  },
  {
   "cell_type": "code",
   "execution_count": 212,
   "metadata": {},
   "outputs": [],
   "source": [
    "neg_corr = pd.DataFrame(data=neg_corr)"
   ]
  },
  {
   "cell_type": "code",
   "execution_count": 213,
   "metadata": {},
   "outputs": [
    {
     "data": {
      "image/png": "[encoded data removed]",
      "text/plain": [
       "<Figure size 432x288 with 1 Axes>"
      ]
     },
     "metadata": {
      "needs_background": "light"
     },
     "output_type": "display_data"
    }
   ],
   "source": [
    "neg_corr.plot(x='Age',y='Income',kind='scatter')\n",
    "plt.show()"
   ]
  },
  {
   "cell_type": "code",
   "execution_count": 224,
   "metadata": {},
   "outputs": [
    {
     "name": "stdout",
     "output_type": "stream",
     "text": [
      "            Age  Education  Usage  Fitness  Income  Miles\n",
      "Age        1.00       0.28   0.02     0.06    0.51   0.04\n",
      "Education  0.28       1.00   0.40     0.41    0.63   0.31\n",
      "Usage      0.02       0.40   1.00     0.67    0.52   0.76\n",
      "Fitness    0.06       0.41   0.67     1.00    0.54   0.79\n",
      "Income     0.51       0.63   0.52     0.54    1.00   0.54\n",
      "Miles      0.04       0.31   0.76     0.79    0.54   1.00\n"
     ]
    }
   ],
   "source": [
    "## creating a correlation matrix, using the round() to round up the decimal numbers\n",
    "#corr_matrix = round(dt.corr(),2)\n",
    "print(corr_matrix)"
   ]
  },
  {
   "cell_type": "code",
   "execution_count": null,
   "metadata": {},
   "outputs": [],
   "source": []
  }
 ],
 "metadata": {
  "kernelspec": {
   "display_name": "Python 3",
   "language": "python",
   "name": "python3"
  },
  "language_info": {
   "codemirror_mode": {
    "name": "ipython",
    "version": 3
   },
   "file_extension": ".py",
   "mimetype": "text/x-python",
   "name": "python",
   "nbconvert_exporter": "python",
   "pygments_lexer": "ipython3",
   "version": "3.7.4"
  }
 },
 "nbformat": 4,
 "nbformat_minor": 2
}
